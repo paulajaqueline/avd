{
 "cells": [
  {
   "cell_type": "markdown",
   "id": "158dc695-ade4-41c6-9384-22ab9048712a",
   "metadata": {},
   "source": [
    "### BIBLIOTECA"
   ]
  },
  {
   "cell_type": "code",
   "execution_count": null,
   "id": "cf6a16d5-978c-4c87-a402-bdaba3194b84",
   "metadata": {},
   "outputs": [],
   "source": [
    "%run ADbib.ipynb"
   ]
  },
  {
   "cell_type": "markdown",
   "id": "92300621-9b28-4f40-a0ca-96dda86dcb62",
   "metadata": {},
   "source": [
    "### QUESTÃO 1:\n",
    "Implementar uma função para encontrar a distribuição de frequência para uma dada amostra. Testar a implementação com a seguinte amostra de estudantes de uma turma de IPC. Construa um histograma para representar graficamente a distribuição.\n",
    "\n",
    "    59, 61, 74, 84, 86, 75, 96, 92, 53, 66,\n",
    "    58, 49, 71, 72, 73, 66, 91, 68, 79, 79,\n",
    "    64, 84, 86, 79, 88, 59, 98, 82, 69, 75,\n",
    "    84, 61, 92, 84, 82, 62, 61, 88, 74, 58,\n",
    "    60, 62, 75, 86, 88, 72, 90, 96, 51, 64"
   ]
  },
  {
   "cell_type": "code",
   "execution_count": null,
   "id": "522c43d2-b35f-4bf7-8f57-0a4cf86175a9",
   "metadata": {},
   "outputs": [],
   "source": [
    "amostra = [\n",
    "    59, 61, 74, 84, 86, 75, 96, 92, 53, 66,\n",
    "    58, 49, 71, 72, 73, 66, 91, 68, 79, 79,\n",
    "    64, 84, 86, 79, 88, 59, 98, 82, 69, 75,\n",
    "    84, 61, 92, 84, 82, 62, 61, 88, 74, 58,\n",
    "    60, 62, 75, 86, 88, 72, 90, 96, 51, 64\n",
    "]\n",
    "\n",
    "calcular_frequencia = ADbib.fazer_rol(amostra)\n",
    "ADbib.distribuicao_frequencia_com_histograma(calcular_frequencia)"
   ]
  },
  {
   "cell_type": "markdown",
   "id": "ec48df8e-3ce4-4155-a2ce-306a5dd4f519",
   "metadata": {},
   "source": [
    "### QUESTÃO 2:\n",
    "\n",
    "Em uma amostra foram registradas a duração (em minutos) de 10 chamadas VoIP:\n",
    "2,5; 3,5, 2,8; 1,9; 2,4; 2,6; 3,4;2,8; 3,6; 2,5\n",
    "\n",
    "Qual a duração média de uma chamada VoIP?"
   ]
  },
  {
   "cell_type": "code",
   "execution_count": null,
   "id": "af4299fb-4cb2-49ec-882d-6acefdcebca2",
   "metadata": {},
   "outputs": [],
   "source": [
    "duracao_chamadas_voip = [2.5, 3.5, 2.8, 1.9, 2.4, 2.6, 3.4, 2.8, 3.6, 2.5]\n",
    "ADbib.media_aritmetica(duracao_chamadas_voip)"
   ]
  },
  {
   "cell_type": "markdown",
   "id": "a6a183c6-6958-4456-a52b-38a296c85fd2",
   "metadata": {},
   "source": [
    "### QUESTÃO 3:\n",
    "\n",
    "O coeficiente de rendimento de um curso é a média ponderada entre as notas de cada disciplina e os respectivos números de créditos. O conjunto a seguir descreve (notas, créditos) de um estudante. Qual o seu coeficiente de rendimento?\n",
    "(7 ; 4), (8 ; 2), (6 ; 2), (9 ; 2), (8 ; 4), (9; 4)"
   ]
  },
  {
   "cell_type": "code",
   "execution_count": null,
   "id": "d751a899-13d1-4dc1-9fb9-f20de09f8990",
   "metadata": {},
   "outputs": [],
   "source": [
    "notas_creditos = [(7, 4), (8, 2), (6, 2), (9, 2), (8, 4), (9, 4)]\n",
    "\n",
    "notas = [item[0] for item in notas_creditos]\n",
    "creditos = [item[1] for item in notas_creditos]\n",
    "\n",
    "ADbib.media_ponderada(notas, creditos)"
   ]
  },
  {
   "cell_type": "markdown",
   "id": "14f5f405-88b8-4ad1-9328-918b092a33cf",
   "metadata": {},
   "source": [
    "### QUESTÃO 4:\n",
    "\n",
    "Observou-se os seguintes valores de uma variável em um experimento:\n",
    "{18, 13, 11, 8, 10, 58, 12}. \n",
    "\n",
    "Qual o valor médio?"
   ]
  },
  {
   "cell_type": "code",
   "execution_count": null,
   "id": "589dedbc-60cf-4a38-acc1-d0b20fe4349b",
   "metadata": {},
   "outputs": [],
   "source": [
    "valores = [18, 13, 11, 8, 10, 58, 12]\n",
    "\n",
    "ADbib.media_geometrica(valores)"
   ]
  },
  {
   "cell_type": "markdown",
   "id": "642b4af4-9808-4adb-8e1b-b58469c5feaa",
   "metadata": {},
   "source": [
    "### QUESTÃO 5: ###\n",
    "\n",
    "5.1. Se alguém dirige 10 km numa estrada a 60 km/h e retorna a 30 km/h, não terá feito uma média de:"
   ]
  },
  {
   "cell_type": "code",
   "execution_count": null,
   "id": "1ca558b2-083d-415d-bff2-8461ab6377bb",
   "metadata": {},
   "outputs": [],
   "source": [
    "velocidades = [60, 30]\n",
    "\n",
    "ADbib.media_harmonica(velocidades)"
   ]
  },
  {
   "cell_type": "markdown",
   "id": "c87e573d-53a9-4f51-a3bf-276398ef3077",
   "metadata": {},
   "source": [
    "### QUESTÃO 5:\n",
    "\n",
    "5.2. Considere o conjunto de medidas obtidas em um experimento. Qual o valor médio de MFLOPS?\n",
    "\n",
    "Tempo de execução     MFLOPS\n",
    "        321            405\n",
    "        436            367\n",
    "        284            405\n",
    "        601            419\n",
    "        482            388"
   ]
  },
  {
   "cell_type": "code",
   "execution_count": null,
   "id": "60a21963-ca0e-433d-850e-68608e5c6aca",
   "metadata": {},
   "outputs": [],
   "source": [
    "mflops = [405, 367, 405, 419, 388]\n",
    "\n",
    "ADbib.media_harmonica(mflops)"
   ]
  },
  {
   "cell_type": "markdown",
   "id": "edceb993-8f44-4a89-8ca5-b86cc0f18141",
   "metadata": {},
   "source": [
    "### QUESTÃO 6:\n",
    "\n",
    "6.1. Resultados das medições da taxa de perdas de transmissão:\n",
    "\n",
    "Duração da      Taxa de\n",
    "medição (s)     perda (%)\n",
    "    100            3,0\n",
    "    100            5,0\n",
    "    100            4,2\n",
    "    100            5,2\n",
    "    200            8,6"
   ]
  },
  {
   "cell_type": "code",
   "execution_count": null,
   "id": "abd37df4-c6f6-4b68-95ec-6419b606e2be",
   "metadata": {},
   "outputs": [],
   "source": [
    "duracao_medicao = [100, 100, 100, 100, 200]\n",
    "taxa_perda = [3.0, 5.0, 4.2, 5.2, 8.6]\n",
    "\n",
    "ADbib.media_taxas(duracao_medicao, taxa_perda)"
   ]
  },
  {
   "cell_type": "markdown",
   "id": "7977d981-03ec-460b-b44d-165bd18118f4",
   "metadata": {},
   "source": [
    "### QUESTÃO 6:\n",
    "\n",
    "6.2. Um homem precisava fazer um reparo e comprou 80m de arame por R$ 40,00. Um tempo depois, ele precisou comprar mais 40m e pagou\n",
    "R$ 45,00. Posteriormente, comprou mais 12m por R$ 50,00. Quanto ele pagou, em média, por cada metro de arame?"
   ]
  },
  {
   "cell_type": "code",
   "execution_count": null,
   "id": "c35699f2-f3e6-4dea-84b7-a6fa1a2d6b25",
   "metadata": {},
   "outputs": [],
   "source": [
    "quantidades_arame = [80, 40, 12]\n",
    "precos = [40, 45, 50]\n",
    "\n",
    "ADbib.media_taxas(quantidades_arame, precos)"
   ]
  },
  {
   "cell_type": "markdown",
   "id": "73866105-1385-4811-aff5-16f2f974cac5",
   "metadata": {},
   "source": [
    "### QUESTÃO 6:\n",
    "\n",
    "6.3. Resultados das medições da taxa de perdas de transmissão:\n",
    "\n",
    "Duração da      Taxa de\n",
    "medição (s)     perda (%)\n",
    "    100            3,0\n",
    "    100            5,0\n",
    "    100            4,2\n",
    "    100            5,2\n",
    "    100            8,6"
   ]
  },
  {
   "cell_type": "code",
   "execution_count": null,
   "id": "20b6e38e-4d28-4487-b0a1-de2342ef1ff7",
   "metadata": {},
   "outputs": [],
   "source": [
    "duracao_medicao = [100, 100, 100, 100, 100]\n",
    "taxa_perda = [3.0, 5.0, 4.2, 5.2, 8.6]\n",
    "\n",
    "ADbib.media_taxas(duracao_medicao, taxa_perda)"
   ]
  },
  {
   "cell_type": "markdown",
   "id": "51f4fb6e-65b6-45bb-aa9e-353fcb8de4d7",
   "metadata": {},
   "source": [
    "### QUESTÃO 7:\n",
    "\n",
    "Olhando o número de contatos no Facebook de alguns amigos encontrou-se:\n",
    "108, 103, 252, 121, 93, 57, 40, 53, 22, 116, 98."
   ]
  },
  {
   "cell_type": "code",
   "execution_count": null,
   "id": "f5ac53ef-4952-46d2-b600-3f54258ebc4a",
   "metadata": {},
   "outputs": [],
   "source": [
    "contatos = [108, 103, 252, 121, 93, 57, 40, 53, 22, 116, 98]\n",
    "\n",
    "ADbib.mediana(contatos)"
   ]
  },
  {
   "cell_type": "markdown",
   "id": "beeb840e-a717-41ab-9d2b-e53f486b4e04",
   "metadata": {},
   "source": [
    "### QUESTÃO 8:\n",
    "\n",
    "Em um experimento de medição, observou-se os seguintes valores de uma variável de interesse. Qual o valor modal?\n",
    "3 4 4 5 5 6 7 8 9 9 9 10 11 12 12 13"
   ]
  },
  {
   "cell_type": "code",
   "execution_count": null,
   "id": "56d15384-cb5b-4f58-b9cc-80f93ee9074f",
   "metadata": {},
   "outputs": [],
   "source": [
    "valores = [3, 4, 4, 5, 5, 6, 7, 8, 9, 9, 9, 10, 11, 12, 12, 13]\n",
    "\n",
    "ADbib.moda(valores)"
   ]
  },
  {
   "cell_type": "markdown",
   "id": "cd487975-b226-4a63-91ea-d310788fd9a5",
   "metadata": {},
   "source": [
    "### QUESTÃO 9:\n",
    "\n",
    "9.1. Calcular a amplitude das amostras dos grupos Y, Z, W e V.\n",
    "Grupo X: 3, 4, 5, 6, 7\n",
    "Grupo Y: 1, 3, 5, 7, 9\n",
    "Grupo Z: 5, 5, 5, 5, 5\n",
    "Grupo W: 3, 5, 5, 5, 7\n",
    "Grupo V: 3, 5, 5, 6, 6"
   ]
  },
  {
   "cell_type": "code",
   "execution_count": null,
   "id": "5f6335a0-bae6-41a7-80a2-dadf17fb57d1",
   "metadata": {},
   "outputs": [],
   "source": [
    "grupo_X = [3, 4, 5, 6, 7]\n",
    "grupo_Y = [1, 3, 5, 7, 9]\n",
    "grupo_Z = [5, 5, 5, 5, 5]\n",
    "grupo_W = [3, 5, 5, 5, 7]\n",
    "grupo_V = [3, 5, 5, 6, 6]\n",
    "\n",
    "amplitude_X = ADbib.amplitude(grupo_X)\n",
    "amplitude_Y = ADbib.amplitude(grupo_Y)\n",
    "amplitude_Z = ADbib.amplitude(grupo_Z)\n",
    "amplitude_W = ADbib.amplitude(grupo_W)\n",
    "amplitude_V = ADbib.amplitude(grupo_V)\n",
    "\n",
    "print(\"Amplitude do Grupo X:\", amplitude_X)\n",
    "print(\"Amplitude do Grupo Y:\", amplitude_Y)\n",
    "print(\"Amplitude do Grupo Z:\", amplitude_Z)\n",
    "print(\"Amplitude do Grupo W:\", amplitude_W)\n",
    "print(\"Amplitude do Grupo V:\", amplitude_V)"
   ]
  },
  {
   "cell_type": "markdown",
   "id": "fda0cf9c-dab6-4d9e-9ff1-39b1172c9936",
   "metadata": {},
   "source": [
    "### QUESTÃO 9:\n",
    "\n",
    "9.2. Um aplicativo foi desenvolvido para registrar o tempo T que o celular de um usuário está próximo do celular de outro usuário. Valores da duração de alguns desses contatos (em segundos):\n",
    "23,17,18,32,19,27,22,16,24,29\n",
    "\n",
    "Calcule a amplitude dessa amostra."
   ]
  },
  {
   "cell_type": "code",
   "execution_count": null,
   "id": "43d54042-cc33-402e-b28e-70ca1e90de99",
   "metadata": {},
   "outputs": [],
   "source": [
    "tempos_contatos = [23, 17, 18, 32, 19, 27, 22, 16, 24, 29]\n",
    "\n",
    "ADbib.amplitude(tempos_contatos)"
   ]
  },
  {
   "cell_type": "markdown",
   "id": "323054a0-e353-4184-a3a7-74ecbc0e07bd",
   "metadata": {},
   "source": [
    "### QUESTÃO 9:\n",
    "\n",
    "9.3. Suponha que dois usuários não se viam há muito tempo e o aplicativo registrou 1200 segundos de duração do contato. A amostra ficou\n",
    "assim:\n",
    "23,17, 18, 32, 19, 27, 22, 16, 24, 1200\n",
    "\n",
    "Calcule a amplitude dessa amostra. O que podemos dizer sobre essa segunda amostra?"
   ]
  },
  {
   "cell_type": "code",
   "execution_count": null,
   "id": "5b4197b0-6161-487b-b357-a05ad4115a27",
   "metadata": {},
   "outputs": [],
   "source": [
    "tempos_contatos = [23, 17, 18, 32, 19, 27, 22, 16, 24, 1200]\n",
    "\n",
    "ADbib.amplitude(tempos_contatos)\n",
    "\n",
    "'''Análise:\n",
    "\n",
    "No primeiro conjunto de dados, a amplitude é de apenas 16 segundos, o que indica que os tempos de contato estão relativamente próximos\n",
    "uns dos outros, com uma variação pequena entre o menor e o maior valor.\n",
    "\n",
    "No entanto, no segundo conjunto de dados [23, 17, 18, 32, 19, 27, 22, 16, 24, 1200], a amplitude é de 1184 segundos, o que é muito maior.\n",
    "Isso indica que há uma grande variação nos tempos de contato, com um valor extremamente alto (1200 segundos) que é muito maior do que os\n",
    "outros valores na amostra.\n",
    "\n",
    "Ao analisar as duas listas de tempo de contatos, podemos observar que a presença de um valor muito maior (1200 segundos) na segunda lista\n",
    "distorce a distribuição dos dados, tornando difícil avaliar o comportamento típico dos tempos de contato.\n",
    "'''"
   ]
  },
  {
   "cell_type": "markdown",
   "id": "6a4af440-7814-4b26-8227-2eaf660d96ca",
   "metadata": {},
   "source": [
    "### QUESTÃO 10:\n",
    "\n",
    "O analista de redes de uma empresa coletou uma amostra do tempo (em segundos) de acesso a uma página web que alguns usuários observaram em dois dias consecutivos. As observações do primeiro dia foram {45, 74, 56, 98, 32, 97} e as do segundo dia foram {48, 81, 33, 40, 84}. \n",
    "\n",
    "Ache a variância amostral e o desvio-padrão de cada amostra. Faça uma análise comparativa."
   ]
  },
  {
   "cell_type": "code",
   "execution_count": null,
   "id": "4c4a7acd-92a9-428a-8a01-d228c74f5afd",
   "metadata": {},
   "outputs": [],
   "source": [
    "amostra_primeiro_dia = [45, 74, 56, 98, 32, 97]\n",
    "amostra_segundo_dia = [48, 81, 33, 40, 84]\n",
    "\n",
    "\n",
    "variancia_amostral_primeiro_dia = ADbib.variancia_amostral(amostra_primeiro_dia)\n",
    "desvio_padrao_primeiro_dia = ADbib.desvio_padrao(amostra_primeiro_dia)\n",
    "\n",
    "variancia_amostral_segundo_dia = ADbib.variancia_amostral(amostra_segundo_dia)\n",
    "desvio_padrao_segundo_dia = ADbib.desvio_padrao(amostra_segundo_dia)\n",
    "\n",
    "print(\"Amostra do Primeiro Dia:\")\n",
    "print(\"Variância amostral:\", variancia_amostral_primeiro_dia)\n",
    "print(\"Desvio padrão:\", desvio_padrao_primeiro_dia)\n",
    "\n",
    "print(\"\\nAmostra do Segundo Dia:\")\n",
    "print(\"Variância amostral:\", variancia_amostral_segundo_dia)\n",
    "print(\"Desvio padrão:\", desvio_padrao_segundo_dia)"
   ]
  },
  {
   "cell_type": "markdown",
   "id": "41c0550c-8847-4723-b31d-ddf20bb52b95",
   "metadata": {},
   "source": [
    "### QUESTÃO 11:\n",
    "\n",
    "Um psicultor mediu o tamanho de alguns peixes a fim de monitorar a condição ideal para o consumo. A amostra apresentou os seguintes valores\n",
    "em cm: 76,102,12,39,55,93,98,53,102. \n",
    "\n",
    "Verifique se o tamanho médio é representativo."
   ]
  },
  {
   "cell_type": "code",
   "execution_count": null,
   "id": "dec5a44e-57de-4b7c-b5bc-22dfbc89c006",
   "metadata": {},
   "outputs": [],
   "source": [
    "tamanhos_peixes = [76, 102, 12, 39, 55, 93, 98, 53, 102]\n",
    "\n",
    "media_tamanhos = ADbib.media_aritmetica(tamanhos_peixes)\n",
    "desvio_padrao_tamanhos = ADbib.desvio_padrao(tamanhos_peixes)\n",
    "\n",
    "coef_variacao = ADbib.coeficiente_variacao(tamanhos_peixes)\n",
    "\n",
    "print(\"Tamanho médio dos peixes:\", media_tamanhos)\n",
    "print(\"Desvio padrão dos tamanhos dos peixes:\", desvio_padrao_tamanhos)\n",
    "print(\"Coeficiente de variação:\", coef_variacao)\n",
    "ADbib.variancia_amostral(tamanhos_peixes)"
   ]
  },
  {
   "cell_type": "markdown",
   "id": "2212b8c5-bb73-46ff-a36e-83c90e3a04ca",
   "metadata": {},
   "source": [
    "### QUESTÃO 12:\n",
    "\n",
    "O seguinte dataset contém dados sobre os Vingadores da Marvel:\n",
    "https://github.com/fivethirtyeight/data/tree/master/avengers\n",
    "\n",
    "Selecione os dados da coluna sobre as aparições e encontre as estatísticas estudadas até aqui."
   ]
  },
  {
   "cell_type": "code",
   "execution_count": null,
   "id": "8a0cb8cb-861a-43b8-b01b-501e400d56db",
   "metadata": {},
   "outputs": [],
   "source": [
    "arquivo = pd.read_csv('https://raw.githubusercontent.com/fivethirtyeight/data/master/avengers/avengers.csv', encoding=\"latin1\")\n",
    "aparicoes = arquivo['Appearances'].array\n",
    "ADbib.media_aritmetica(aparicoes)"
   ]
  },
  {
   "cell_type": "markdown",
   "id": "7d6cdf3b-a973-4f70-9863-1360746444be",
   "metadata": {},
   "source": [
    "### QUESTÃO 13:\n",
    "\n",
    "13.1. Construir um IC com níveis de confiança de 90%, 95% e 99%, para os seguintes dados coletados em um experimento:\n",
    "    177 122 128 191 180 142 197 196  67 160\n",
    "    167 138 107 188 102 116 138 114 188 176\n",
    "    148 175 169 203 135 142 168 181 168 150\n",
    "    132 196  88 177 164 118 178 102 156 114"
   ]
  },
  {
   "cell_type": "code",
   "execution_count": null,
   "id": "961bd716-0ab2-42a2-85f9-600d43fbb167",
   "metadata": {},
   "outputs": [],
   "source": [
    "dados_experimento = [177, 122, 128, 191, 180, 142, 197, 196, 67, 160, 167, 138, 107, 188, 102, 116, 138, 114, 188, 176, 148, 175, 169, 203, 135, 142, 168, 181, 168, 150, 132, 196, 88, 177, 164, 118, 178, 102, 156, 114]\n",
    "print(\"Intervalo para o nivel de confiança de 90%: \", ADbib.intervalo_confianca(dados_experimento,90))\n",
    "print(\"Intervalo para o nivel de confiança de 95%: \", ADbib.intervalo_confianca(dados_experimento,95))\n",
    "print(\"Intervalo para o nivel de confiança de 99%: \", ADbib.intervalo_confianca(dados_experimento,99))"
   ]
  },
  {
   "cell_type": "markdown",
   "id": "b4a2c445-d6a4-44dc-8184-ec140309b135",
   "metadata": {},
   "source": [
    "### QUESTÃO 13:\n",
    "\n",
    "13.2. Construir um IC com nível de confiança de 95%, para a seguinte amostra coletada em um experimento:\n",
    "-0.04, -0.19, 0.14, -0.09, -0.14, 0.19, 0.04, 0.09"
   ]
  },
  {
   "cell_type": "code",
   "execution_count": null,
   "id": "10d840bf-22cd-4fa9-9a16-4f4b77ecd8af",
   "metadata": {},
   "outputs": [],
   "source": [
    "amostra_coletada = [-0.04, -0.19, 0.14, -0.09, -0.14, 0.19, 0.04, 0.09]\n",
    "ADbib.intervalo_confianca(amostra_coletada,90)"
   ]
  },
  {
   "cell_type": "markdown",
   "id": "58678b90-0028-45fb-adb0-68a4711c994f",
   "metadata": {},
   "source": [
    "### QUESTÃO 14:\n",
    "\n",
    "14.1. Dois sistemas (A e B) foram submetidos a seis cargas similares. As observações da métrica de interesse para os dois sistemas aparecem na\n",
    "tabela abaixo. Um dos sistemas é melhor que o outro? Argumente com base em um nível de confiança de 90%, 95% e 99%.\n",
    "\n",
    "SISTEMAS   CARGA_1   CARGA_2   CARGA_3   CARGA_4   CARGA_5   CARGA_6\n",
    "   A         5,4      16,6      0,6        1,4       0,6       7,3\n",
    "   B        19,1       3,5      3,4        2,5       3,6       1,7"
   ]
  },
  {
   "cell_type": "code",
   "execution_count": null,
   "id": "3ac78f7e-8369-4310-b3fd-c11fdc8c8b90",
   "metadata": {},
   "outputs": [],
   "source": []
  },
  {
   "cell_type": "markdown",
   "id": "763f19cf-3935-4689-94b5-ed7d180066d6",
   "metadata": {},
   "source": [
    "### QUESTÃO 14:\n",
    "\n",
    "14.2. A diferença de tempo de execução de duas implementações do mesmo algoritmo foi medida em sete cargas de trabalho semelhantes. As\n",
    "diferenças obtidas foram: {1,5; 2,6; -1,8; 1,3; -0,5; 1,7; 2,4}.\n",
    "\n",
    "Podemos dizer com 99% de confiança que uma implementação é superior à outra?"
   ]
  },
  {
   "cell_type": "code",
   "execution_count": null,
   "id": "7e6db2d1-502b-4abe-b386-a8c266685237",
   "metadata": {},
   "outputs": [],
   "source": [
    "diferenca = [1.5,2.6,-1.8,1.3,-0.5,1.7,2.4]\n",
    "ADbib.intervalo_confianca(diferenca,99)"
   ]
  },
  {
   "cell_type": "markdown",
   "id": "afd5f863-cb3e-4e18-a4e4-5505182dfbd9",
   "metadata": {},
   "source": [
    "### QUESTÃO 14:\n",
    "\n",
    "14.3. O tempo de processador consumido na execução de uma determinada aplicação foi medido em dois sistemas. Os tempos nos sistema A e B estão registrados na tabela a seguir.\n",
    "\n",
    "A   5,3   16   0,6   1,4   0,6   7,7   3,6   2,4   12\n",
    "     6    57    2     1     4     6     4     8    1\n",
    "B   19   3,5   3,3   2,5   3,6   1,7\n",
    "    12    2     8     1     1     4\n",
    "\n",
    "Podemos afirmar que os dois sistemas são significativamente diferentes? Utilizem 90%, 95% e 99% como nível de confiança."
   ]
  },
  {
   "cell_type": "code",
   "execution_count": null,
   "id": "1ec9a42b-90b5-4dd4-b8b7-ffd58ee4f4b3",
   "metadata": {},
   "outputs": [],
   "source": [
    "a = [5.3,16,0.6,1.4,0.6,7.7,3.6,2.4,12,6,57,2,1,4,6,4,8,1]\n",
    "b = [19,3.5,3.3,2.5,3.6,1.7,12,2,8,1,1,4]\n",
    "\n",
    "ADbib.teste_media_zero(a,b,99)"
   ]
  },
  {
   "cell_type": "markdown",
   "id": "c78cff52-5df0-4b13-acd7-34a3e61cafe5",
   "metadata": {},
   "source": [
    "### QUESTÃO 15:\n",
    "\n",
    "Estamos projetando um experimento e gostaríamos de saber quantos estudantes do IComp utilizam um app. Em anos anteriores, o desvio padrão dessa informação era 6. Se queremos um nível de confiança de 95%, com largura não maior que 3, quantos estudantes devem participar da amostra?"
   ]
  },
  {
   "cell_type": "code",
   "execution_count": null,
   "id": "2e913fca-202c-477b-9112-2cc38e9ef4db",
   "metadata": {},
   "outputs": [],
   "source": []
  },
  {
   "cell_type": "markdown",
   "id": "7cc9d507-8436-4dbe-b8eb-b28c4fb72464",
   "metadata": {},
   "source": []
  },
  {
   "cell_type": "code",
   "execution_count": null,
   "id": "532b83a1-dab6-4427-b0f7-30a36a78b6a6",
   "metadata": {},
   "outputs": [],
   "source": []
  },
  {
   "cell_type": "code",
   "execution_count": null,
   "id": "9e3af4c2-1036-4792-a102-40536a0d9664",
   "metadata": {},
   "outputs": [],
   "source": []
  },
  {
   "cell_type": "code",
   "execution_count": null,
   "id": "73423476-46a3-4fd7-9cac-fa4be34c43ce",
   "metadata": {},
   "outputs": [],
   "source": []
  },
  {
   "cell_type": "code",
   "execution_count": null,
   "id": "8d610092-62c4-45c2-affb-d571c6bd927d",
   "metadata": {},
   "outputs": [],
   "source": []
  }
 ],
 "metadata": {
  "kernelspec": {
   "display_name": "Python 3 (ipykernel)",
   "language": "python",
   "name": "python3"
  },
  "language_info": {
   "codemirror_mode": {
    "name": "ipython",
    "version": 3
   },
   "file_extension": ".py",
   "mimetype": "text/x-python",
   "name": "python",
   "nbconvert_exporter": "python",
   "pygments_lexer": "ipython3",
   "version": "3.8.10"
  }
 },
 "nbformat": 4,
 "nbformat_minor": 5
}
